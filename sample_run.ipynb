{
 "cells": [
  {
   "cell_type": "code",
   "execution_count": 8,
   "metadata": {},
   "outputs": [
    {
     "name": "stdout",
     "output_type": "stream",
     "text": [
      "fucking code**************\n"
     ]
    }
   ],
   "source": [
    "import pandas as pd\n",
    "import numpy as np\n",
    "from glob import glob\n",
    "from transformers import BertTokenizer\n",
    "import torch\n",
    "from torch import nn\n",
    "%matplotlib inline\n",
    "import json\n",
    "from tqdm import tqdm\n",
    "from sklearn import metrics\n",
    "import os\n",
    "\n",
    "from model_1_to_1 import (\n",
    "    BertChineseLinearPunc,\n",
    "\n",
    ")\n",
    "from data_1_to_1 import load_file, preprocess_data, create_data_loader\n",
    "glob('models/*')\n",
    "path = './models/20240624_143110/'\n",
    "with open(os.path.join(path, 'hyperparameters.json'), 'r') as f:\n",
    "    hyperparameters = json.load(f)\n",
    "\n",
    "tokenizer = BertTokenizer.from_pretrained('bert-base-chinese', do_lower_case=True)\n",
    "\n",
    "punctuation_enc = {\n",
    "    'O': 0,\n",
    "    '，': 1,\n",
    "    '。': 2,\n",
    "    '？': 3\n",
    "}\n",
    "\n",
    "segment_size = 200\n",
    "device='cpu'\n",
    "output_size = len(punctuation_enc)\n",
    "dropout = hyperparameters['dropout']\n",
    "bert_punc = BertChineseLinearPunc(segment_size, output_size, dropout, None).to(device)\n",
    "bert_punc.load_state_dict(torch.load(os.path.join(path, 'model')))\n",
    "bert_punc.eval();"
   ]
  },
  {
   "cell_type": "code",
   "execution_count": 14,
   "metadata": {},
   "outputs": [
    {
     "name": "stdout",
     "output_type": "stream",
     "text": [
      "干一行不行，一行不行，一行不行，行行不行\n"
     ]
    }
   ],
   "source": [
    "y_pred = []\n",
    "inputs = \"干一行不行一行不行一行不行行行不行\"\n",
    "tokens = tokenizer.tokenize(inputs)\n",
    "x = tokenizer.convert_tokens_to_ids(tokens)\n",
    "# print(x)\n",
    "x=torch.tensor(x).unsqueeze(0)\n",
    "output = bert_punc(x)\n",
    "y_pred += list(output.argmax(dim=1).cpu().data.numpy().flatten())\n",
    "# Modify tokens based on y_pred\n",
    "for i in range(len(y_pred)):\n",
    "    if y_pred[i] != 0:\n",
    "        tokens[i] += list(punctuation_enc.keys())[y_pred[i]]\n",
    "untokenized_output = ''.join(tokens)\n",
    "print(untokenized_output)"
   ]
  },
  {
   "cell_type": "code",
   "execution_count": 10,
   "metadata": {},
   "outputs": [
    {
     "ename": "ModuleNotFoundError",
     "evalue": "No module named 'wenet'",
     "output_type": "error",
     "traceback": [
      "\u001b[0;31m---------------------------------------------------------------------------\u001b[0m",
      "\u001b[0;31mModuleNotFoundError\u001b[0m                       Traceback (most recent call last)",
      "\u001b[0;32m<ipython-input-10-6489ebb2e865>\u001b[0m in \u001b[0;36m<module>\u001b[0;34m\u001b[0m\n\u001b[0;32m----> 1\u001b[0;31m \u001b[0;32mimport\u001b[0m \u001b[0mwenet\u001b[0m\u001b[0;34m\u001b[0m\u001b[0;34m\u001b[0m\u001b[0m\n\u001b[0m\u001b[1;32m      2\u001b[0m \u001b[0;34m\u001b[0m\u001b[0m\n\u001b[1;32m      3\u001b[0m \u001b[0mmodel\u001b[0m \u001b[0;34m=\u001b[0m \u001b[0mwenet\u001b[0m\u001b[0;34m.\u001b[0m\u001b[0mload_model\u001b[0m\u001b[0;34m(\u001b[0m\u001b[0;34m'chinese'\u001b[0m\u001b[0;34m)\u001b[0m\u001b[0;34m\u001b[0m\u001b[0;34m\u001b[0m\u001b[0m\n\u001b[1;32m      4\u001b[0m result = model.transcribe(\n\u001b[1;32m      5\u001b[0m     \u001b[0;34m'/home/xinying/Speaker2/SpeakerRecognition_tutorial-master/test_wavs/liying/liying enroll.wav'\u001b[0m\u001b[0;34m\u001b[0m\u001b[0;34m\u001b[0m\u001b[0m\n",
      "\u001b[0;31mModuleNotFoundError\u001b[0m: No module named 'wenet'"
     ]
    }
   ],
   "source": [
    "import wenet\n",
    "\n",
    "model = wenet.load_model('chinese')\n",
    "result = model.transcribe(\n",
    "    '/home/xinying/Speaker2/SpeakerRecognition_tutorial-master/test_wavs/liying/liying enroll.wav'\n",
    "    )\n",
    "print(result['text'])"
   ]
  }
 ],
 "metadata": {
  "kernelspec": {
   "display_name": "puncrestore",
   "language": "python",
   "name": "python3"
  },
  "language_info": {
   "codemirror_mode": {
    "name": "ipython",
    "version": 3
   },
   "file_extension": ".py",
   "mimetype": "text/x-python",
   "name": "python",
   "nbconvert_exporter": "python",
   "pygments_lexer": "ipython3",
   "version": "3.6.undefined"
  }
 },
 "nbformat": 4,
 "nbformat_minor": 2
}
